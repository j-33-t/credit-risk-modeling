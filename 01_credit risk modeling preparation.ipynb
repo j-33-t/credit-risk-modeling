{
 "cells": [
  {
   "attachments": {},
   "cell_type": "markdown",
   "metadata": {},
   "source": [
    "# Data Preparation"
   ]
  },
  {
   "cell_type": "code",
   "execution_count": 1,
   "metadata": {},
   "outputs": [],
   "source": [
    "import numpy as np\n",
    "import pandas as pd"
   ]
  },
  {
   "attachments": {},
   "cell_type": "markdown",
   "metadata": {},
   "source": [
    "## Load data"
   ]
  },
  {
   "cell_type": "code",
   "execution_count": 2,
   "metadata": {},
   "outputs": [
    {
     "name": "stderr",
     "output_type": "stream",
     "text": [
      "/var/folders/jm/4cmln_kj5c3fzg5f9mkf28s40000gn/T/ipykernel_15363/3595106883.py:1: DtypeWarning: Columns (20) have mixed types. Specify dtype option on import or set low_memory=False.\n",
      "  load_backup_data = pd.read_csv(\"/Users/pr7/Documents/github/loan_data_2007_2014.csv\")\n"
     ]
    }
   ],
   "source": [
    "load_backup_data = pd.read_csv(\"/Users/pr7/Documents/github/loan_data_2007_2014.csv\")"
   ]
  },
  {
   "cell_type": "code",
   "execution_count": 3,
   "metadata": {},
   "outputs": [],
   "source": [
    "loan_data = load_backup_data.copy()"
   ]
  },
  {
   "attachments": {},
   "cell_type": "markdown",
   "metadata": {},
   "source": [
    "## Explore"
   ]
  },
  {
   "cell_type": "code",
   "execution_count": 4,
   "metadata": {},
   "outputs": [
    {
     "data": {
      "text/html": [
       "<div>\n",
       "<style scoped>\n",
       "    .dataframe tbody tr th:only-of-type {\n",
       "        vertical-align: middle;\n",
       "    }\n",
       "\n",
       "    .dataframe tbody tr th {\n",
       "        vertical-align: top;\n",
       "    }\n",
       "\n",
       "    .dataframe thead th {\n",
       "        text-align: right;\n",
       "    }\n",
       "</style>\n",
       "<table border=\"1\" class=\"dataframe\">\n",
       "  <thead>\n",
       "    <tr style=\"text-align: right;\">\n",
       "      <th></th>\n",
       "      <th>Unnamed: 0</th>\n",
       "      <th>id</th>\n",
       "      <th>member_id</th>\n",
       "      <th>loan_amnt</th>\n",
       "      <th>funded_amnt</th>\n",
       "      <th>funded_amnt_inv</th>\n",
       "      <th>term</th>\n",
       "      <th>int_rate</th>\n",
       "      <th>installment</th>\n",
       "      <th>grade</th>\n",
       "      <th>...</th>\n",
       "      <th>total_bal_il</th>\n",
       "      <th>il_util</th>\n",
       "      <th>open_rv_12m</th>\n",
       "      <th>open_rv_24m</th>\n",
       "      <th>max_bal_bc</th>\n",
       "      <th>all_util</th>\n",
       "      <th>total_rev_hi_lim</th>\n",
       "      <th>inq_fi</th>\n",
       "      <th>total_cu_tl</th>\n",
       "      <th>inq_last_12m</th>\n",
       "    </tr>\n",
       "  </thead>\n",
       "  <tbody>\n",
       "    <tr>\n",
       "      <th>0</th>\n",
       "      <td>0</td>\n",
       "      <td>1077501</td>\n",
       "      <td>1296599</td>\n",
       "      <td>5000</td>\n",
       "      <td>5000</td>\n",
       "      <td>4975.0</td>\n",
       "      <td>36 months</td>\n",
       "      <td>10.65</td>\n",
       "      <td>162.87</td>\n",
       "      <td>B</td>\n",
       "      <td>...</td>\n",
       "      <td>NaN</td>\n",
       "      <td>NaN</td>\n",
       "      <td>NaN</td>\n",
       "      <td>NaN</td>\n",
       "      <td>NaN</td>\n",
       "      <td>NaN</td>\n",
       "      <td>NaN</td>\n",
       "      <td>NaN</td>\n",
       "      <td>NaN</td>\n",
       "      <td>NaN</td>\n",
       "    </tr>\n",
       "    <tr>\n",
       "      <th>1</th>\n",
       "      <td>1</td>\n",
       "      <td>1077430</td>\n",
       "      <td>1314167</td>\n",
       "      <td>2500</td>\n",
       "      <td>2500</td>\n",
       "      <td>2500.0</td>\n",
       "      <td>60 months</td>\n",
       "      <td>15.27</td>\n",
       "      <td>59.83</td>\n",
       "      <td>C</td>\n",
       "      <td>...</td>\n",
       "      <td>NaN</td>\n",
       "      <td>NaN</td>\n",
       "      <td>NaN</td>\n",
       "      <td>NaN</td>\n",
       "      <td>NaN</td>\n",
       "      <td>NaN</td>\n",
       "      <td>NaN</td>\n",
       "      <td>NaN</td>\n",
       "      <td>NaN</td>\n",
       "      <td>NaN</td>\n",
       "    </tr>\n",
       "    <tr>\n",
       "      <th>2</th>\n",
       "      <td>2</td>\n",
       "      <td>1077175</td>\n",
       "      <td>1313524</td>\n",
       "      <td>2400</td>\n",
       "      <td>2400</td>\n",
       "      <td>2400.0</td>\n",
       "      <td>36 months</td>\n",
       "      <td>15.96</td>\n",
       "      <td>84.33</td>\n",
       "      <td>C</td>\n",
       "      <td>...</td>\n",
       "      <td>NaN</td>\n",
       "      <td>NaN</td>\n",
       "      <td>NaN</td>\n",
       "      <td>NaN</td>\n",
       "      <td>NaN</td>\n",
       "      <td>NaN</td>\n",
       "      <td>NaN</td>\n",
       "      <td>NaN</td>\n",
       "      <td>NaN</td>\n",
       "      <td>NaN</td>\n",
       "    </tr>\n",
       "    <tr>\n",
       "      <th>3</th>\n",
       "      <td>3</td>\n",
       "      <td>1076863</td>\n",
       "      <td>1277178</td>\n",
       "      <td>10000</td>\n",
       "      <td>10000</td>\n",
       "      <td>10000.0</td>\n",
       "      <td>36 months</td>\n",
       "      <td>13.49</td>\n",
       "      <td>339.31</td>\n",
       "      <td>C</td>\n",
       "      <td>...</td>\n",
       "      <td>NaN</td>\n",
       "      <td>NaN</td>\n",
       "      <td>NaN</td>\n",
       "      <td>NaN</td>\n",
       "      <td>NaN</td>\n",
       "      <td>NaN</td>\n",
       "      <td>NaN</td>\n",
       "      <td>NaN</td>\n",
       "      <td>NaN</td>\n",
       "      <td>NaN</td>\n",
       "    </tr>\n",
       "    <tr>\n",
       "      <th>4</th>\n",
       "      <td>4</td>\n",
       "      <td>1075358</td>\n",
       "      <td>1311748</td>\n",
       "      <td>3000</td>\n",
       "      <td>3000</td>\n",
       "      <td>3000.0</td>\n",
       "      <td>60 months</td>\n",
       "      <td>12.69</td>\n",
       "      <td>67.79</td>\n",
       "      <td>B</td>\n",
       "      <td>...</td>\n",
       "      <td>NaN</td>\n",
       "      <td>NaN</td>\n",
       "      <td>NaN</td>\n",
       "      <td>NaN</td>\n",
       "      <td>NaN</td>\n",
       "      <td>NaN</td>\n",
       "      <td>NaN</td>\n",
       "      <td>NaN</td>\n",
       "      <td>NaN</td>\n",
       "      <td>NaN</td>\n",
       "    </tr>\n",
       "    <tr>\n",
       "      <th>...</th>\n",
       "      <td>...</td>\n",
       "      <td>...</td>\n",
       "      <td>...</td>\n",
       "      <td>...</td>\n",
       "      <td>...</td>\n",
       "      <td>...</td>\n",
       "      <td>...</td>\n",
       "      <td>...</td>\n",
       "      <td>...</td>\n",
       "      <td>...</td>\n",
       "      <td>...</td>\n",
       "      <td>...</td>\n",
       "      <td>...</td>\n",
       "      <td>...</td>\n",
       "      <td>...</td>\n",
       "      <td>...</td>\n",
       "      <td>...</td>\n",
       "      <td>...</td>\n",
       "      <td>...</td>\n",
       "      <td>...</td>\n",
       "      <td>...</td>\n",
       "    </tr>\n",
       "    <tr>\n",
       "      <th>466280</th>\n",
       "      <td>466280</td>\n",
       "      <td>8598660</td>\n",
       "      <td>1440975</td>\n",
       "      <td>18400</td>\n",
       "      <td>18400</td>\n",
       "      <td>18400.0</td>\n",
       "      <td>60 months</td>\n",
       "      <td>14.47</td>\n",
       "      <td>432.64</td>\n",
       "      <td>C</td>\n",
       "      <td>...</td>\n",
       "      <td>NaN</td>\n",
       "      <td>NaN</td>\n",
       "      <td>NaN</td>\n",
       "      <td>NaN</td>\n",
       "      <td>NaN</td>\n",
       "      <td>NaN</td>\n",
       "      <td>29900.0</td>\n",
       "      <td>NaN</td>\n",
       "      <td>NaN</td>\n",
       "      <td>NaN</td>\n",
       "    </tr>\n",
       "    <tr>\n",
       "      <th>466281</th>\n",
       "      <td>466281</td>\n",
       "      <td>9684700</td>\n",
       "      <td>11536848</td>\n",
       "      <td>22000</td>\n",
       "      <td>22000</td>\n",
       "      <td>22000.0</td>\n",
       "      <td>60 months</td>\n",
       "      <td>19.97</td>\n",
       "      <td>582.50</td>\n",
       "      <td>D</td>\n",
       "      <td>...</td>\n",
       "      <td>NaN</td>\n",
       "      <td>NaN</td>\n",
       "      <td>NaN</td>\n",
       "      <td>NaN</td>\n",
       "      <td>NaN</td>\n",
       "      <td>NaN</td>\n",
       "      <td>39400.0</td>\n",
       "      <td>NaN</td>\n",
       "      <td>NaN</td>\n",
       "      <td>NaN</td>\n",
       "    </tr>\n",
       "    <tr>\n",
       "      <th>466282</th>\n",
       "      <td>466282</td>\n",
       "      <td>9584776</td>\n",
       "      <td>11436914</td>\n",
       "      <td>20700</td>\n",
       "      <td>20700</td>\n",
       "      <td>20700.0</td>\n",
       "      <td>60 months</td>\n",
       "      <td>16.99</td>\n",
       "      <td>514.34</td>\n",
       "      <td>D</td>\n",
       "      <td>...</td>\n",
       "      <td>NaN</td>\n",
       "      <td>NaN</td>\n",
       "      <td>NaN</td>\n",
       "      <td>NaN</td>\n",
       "      <td>NaN</td>\n",
       "      <td>NaN</td>\n",
       "      <td>13100.0</td>\n",
       "      <td>NaN</td>\n",
       "      <td>NaN</td>\n",
       "      <td>NaN</td>\n",
       "    </tr>\n",
       "    <tr>\n",
       "      <th>466283</th>\n",
       "      <td>466283</td>\n",
       "      <td>9604874</td>\n",
       "      <td>11457002</td>\n",
       "      <td>2000</td>\n",
       "      <td>2000</td>\n",
       "      <td>2000.0</td>\n",
       "      <td>36 months</td>\n",
       "      <td>7.90</td>\n",
       "      <td>62.59</td>\n",
       "      <td>A</td>\n",
       "      <td>...</td>\n",
       "      <td>NaN</td>\n",
       "      <td>NaN</td>\n",
       "      <td>NaN</td>\n",
       "      <td>NaN</td>\n",
       "      <td>NaN</td>\n",
       "      <td>NaN</td>\n",
       "      <td>53100.0</td>\n",
       "      <td>NaN</td>\n",
       "      <td>NaN</td>\n",
       "      <td>NaN</td>\n",
       "    </tr>\n",
       "    <tr>\n",
       "      <th>466284</th>\n",
       "      <td>466284</td>\n",
       "      <td>9199665</td>\n",
       "      <td>11061576</td>\n",
       "      <td>10000</td>\n",
       "      <td>10000</td>\n",
       "      <td>9975.0</td>\n",
       "      <td>36 months</td>\n",
       "      <td>19.20</td>\n",
       "      <td>367.58</td>\n",
       "      <td>D</td>\n",
       "      <td>...</td>\n",
       "      <td>NaN</td>\n",
       "      <td>NaN</td>\n",
       "      <td>NaN</td>\n",
       "      <td>NaN</td>\n",
       "      <td>NaN</td>\n",
       "      <td>NaN</td>\n",
       "      <td>16000.0</td>\n",
       "      <td>NaN</td>\n",
       "      <td>NaN</td>\n",
       "      <td>NaN</td>\n",
       "    </tr>\n",
       "  </tbody>\n",
       "</table>\n",
       "<p>466285 rows × 75 columns</p>\n",
       "</div>"
      ],
      "text/plain": [
       "        Unnamed: 0       id  member_id  loan_amnt  funded_amnt  \\\n",
       "0                0  1077501    1296599       5000         5000   \n",
       "1                1  1077430    1314167       2500         2500   \n",
       "2                2  1077175    1313524       2400         2400   \n",
       "3                3  1076863    1277178      10000        10000   \n",
       "4                4  1075358    1311748       3000         3000   \n",
       "...            ...      ...        ...        ...          ...   \n",
       "466280      466280  8598660    1440975      18400        18400   \n",
       "466281      466281  9684700   11536848      22000        22000   \n",
       "466282      466282  9584776   11436914      20700        20700   \n",
       "466283      466283  9604874   11457002       2000         2000   \n",
       "466284      466284  9199665   11061576      10000        10000   \n",
       "\n",
       "        funded_amnt_inv        term  int_rate  installment grade  ...  \\\n",
       "0                4975.0   36 months     10.65       162.87     B  ...   \n",
       "1                2500.0   60 months     15.27        59.83     C  ...   \n",
       "2                2400.0   36 months     15.96        84.33     C  ...   \n",
       "3               10000.0   36 months     13.49       339.31     C  ...   \n",
       "4                3000.0   60 months     12.69        67.79     B  ...   \n",
       "...                 ...         ...       ...          ...   ...  ...   \n",
       "466280          18400.0   60 months     14.47       432.64     C  ...   \n",
       "466281          22000.0   60 months     19.97       582.50     D  ...   \n",
       "466282          20700.0   60 months     16.99       514.34     D  ...   \n",
       "466283           2000.0   36 months      7.90        62.59     A  ...   \n",
       "466284           9975.0   36 months     19.20       367.58     D  ...   \n",
       "\n",
       "       total_bal_il il_util open_rv_12m open_rv_24m  max_bal_bc all_util  \\\n",
       "0               NaN     NaN         NaN         NaN         NaN      NaN   \n",
       "1               NaN     NaN         NaN         NaN         NaN      NaN   \n",
       "2               NaN     NaN         NaN         NaN         NaN      NaN   \n",
       "3               NaN     NaN         NaN         NaN         NaN      NaN   \n",
       "4               NaN     NaN         NaN         NaN         NaN      NaN   \n",
       "...             ...     ...         ...         ...         ...      ...   \n",
       "466280          NaN     NaN         NaN         NaN         NaN      NaN   \n",
       "466281          NaN     NaN         NaN         NaN         NaN      NaN   \n",
       "466282          NaN     NaN         NaN         NaN         NaN      NaN   \n",
       "466283          NaN     NaN         NaN         NaN         NaN      NaN   \n",
       "466284          NaN     NaN         NaN         NaN         NaN      NaN   \n",
       "\n",
       "       total_rev_hi_lim inq_fi total_cu_tl inq_last_12m  \n",
       "0                   NaN    NaN         NaN          NaN  \n",
       "1                   NaN    NaN         NaN          NaN  \n",
       "2                   NaN    NaN         NaN          NaN  \n",
       "3                   NaN    NaN         NaN          NaN  \n",
       "4                   NaN    NaN         NaN          NaN  \n",
       "...                 ...    ...         ...          ...  \n",
       "466280          29900.0    NaN         NaN          NaN  \n",
       "466281          39400.0    NaN         NaN          NaN  \n",
       "466282          13100.0    NaN         NaN          NaN  \n",
       "466283          53100.0    NaN         NaN          NaN  \n",
       "466284          16000.0    NaN         NaN          NaN  \n",
       "\n",
       "[466285 rows x 75 columns]"
      ]
     },
     "execution_count": 4,
     "metadata": {},
     "output_type": "execute_result"
    }
   ],
   "source": [
    "loan_data "
   ]
  },
  {
   "cell_type": "code",
   "execution_count": 5,
   "metadata": {},
   "outputs": [
    {
     "name": "stdout",
     "output_type": "stream",
     "text": [
      "<class 'pandas.core.frame.DataFrame'>\n",
      "RangeIndex: 466285 entries, 0 to 466284\n",
      "Data columns (total 75 columns):\n",
      " #   Column                       Non-Null Count   Dtype  \n",
      "---  ------                       --------------   -----  \n",
      " 0   Unnamed: 0                   466285 non-null  int64  \n",
      " 1   id                           466285 non-null  int64  \n",
      " 2   member_id                    466285 non-null  int64  \n",
      " 3   loan_amnt                    466285 non-null  int64  \n",
      " 4   funded_amnt                  466285 non-null  int64  \n",
      " 5   funded_amnt_inv              466285 non-null  float64\n",
      " 6   term                         466285 non-null  object \n",
      " 7   int_rate                     466285 non-null  float64\n",
      " 8   installment                  466285 non-null  float64\n",
      " 9   grade                        466285 non-null  object \n",
      " 10  sub_grade                    466285 non-null  object \n",
      " 11  emp_title                    438697 non-null  object \n",
      " 12  emp_length                   445277 non-null  object \n",
      " 13  home_ownership               466285 non-null  object \n",
      " 14  annual_inc                   466281 non-null  float64\n",
      " 15  verification_status          466285 non-null  object \n",
      " 16  issue_d                      466285 non-null  object \n",
      " 17  loan_status                  466285 non-null  object \n",
      " 18  pymnt_plan                   466285 non-null  object \n",
      " 19  url                          466285 non-null  object \n",
      " 20  desc                         125981 non-null  object \n",
      " 21  purpose                      466285 non-null  object \n",
      " 22  title                        466264 non-null  object \n",
      " 23  zip_code                     466285 non-null  object \n",
      " 24  addr_state                   466285 non-null  object \n",
      " 25  dti                          466285 non-null  float64\n",
      " 26  delinq_2yrs                  466256 non-null  float64\n",
      " 27  earliest_cr_line             466256 non-null  object \n",
      " 28  inq_last_6mths               466256 non-null  float64\n",
      " 29  mths_since_last_delinq       215934 non-null  float64\n",
      " 30  mths_since_last_record       62638 non-null   float64\n",
      " 31  open_acc                     466256 non-null  float64\n",
      " 32  pub_rec                      466256 non-null  float64\n",
      " 33  revol_bal                    466285 non-null  int64  \n",
      " 34  revol_util                   465945 non-null  float64\n",
      " 35  total_acc                    466256 non-null  float64\n",
      " 36  initial_list_status          466285 non-null  object \n",
      " 37  out_prncp                    466285 non-null  float64\n",
      " 38  out_prncp_inv                466285 non-null  float64\n",
      " 39  total_pymnt                  466285 non-null  float64\n",
      " 40  total_pymnt_inv              466285 non-null  float64\n",
      " 41  total_rec_prncp              466285 non-null  float64\n",
      " 42  total_rec_int                466285 non-null  float64\n",
      " 43  total_rec_late_fee           466285 non-null  float64\n",
      " 44  recoveries                   466285 non-null  float64\n",
      " 45  collection_recovery_fee      466285 non-null  float64\n",
      " 46  last_pymnt_d                 465909 non-null  object \n",
      " 47  last_pymnt_amnt              466285 non-null  float64\n",
      " 48  next_pymnt_d                 239071 non-null  object \n",
      " 49  last_credit_pull_d           466243 non-null  object \n",
      " 50  collections_12_mths_ex_med   466140 non-null  float64\n",
      " 51  mths_since_last_major_derog  98974 non-null   float64\n",
      " 52  policy_code                  466285 non-null  int64  \n",
      " 53  application_type             466285 non-null  object \n",
      " 54  annual_inc_joint             0 non-null       float64\n",
      " 55  dti_joint                    0 non-null       float64\n",
      " 56  verification_status_joint    0 non-null       float64\n",
      " 57  acc_now_delinq               466256 non-null  float64\n",
      " 58  tot_coll_amt                 396009 non-null  float64\n",
      " 59  tot_cur_bal                  396009 non-null  float64\n",
      " 60  open_acc_6m                  0 non-null       float64\n",
      " 61  open_il_6m                   0 non-null       float64\n",
      " 62  open_il_12m                  0 non-null       float64\n",
      " 63  open_il_24m                  0 non-null       float64\n",
      " 64  mths_since_rcnt_il           0 non-null       float64\n",
      " 65  total_bal_il                 0 non-null       float64\n",
      " 66  il_util                      0 non-null       float64\n",
      " 67  open_rv_12m                  0 non-null       float64\n",
      " 68  open_rv_24m                  0 non-null       float64\n",
      " 69  max_bal_bc                   0 non-null       float64\n",
      " 70  all_util                     0 non-null       float64\n",
      " 71  total_rev_hi_lim             396009 non-null  float64\n",
      " 72  inq_fi                       0 non-null       float64\n",
      " 73  total_cu_tl                  0 non-null       float64\n",
      " 74  inq_last_12m                 0 non-null       float64\n",
      "dtypes: float64(46), int64(7), object(22)\n",
      "memory usage: 266.8+ MB\n"
     ]
    }
   ],
   "source": [
    "loan_data.info()"
   ]
  },
  {
   "attachments": {},
   "cell_type": "markdown",
   "metadata": {},
   "source": [
    "# General Pre processsing"
   ]
  },
  {
   "attachments": {},
   "cell_type": "markdown",
   "metadata": {},
   "source": [
    "## 1. Changing continous variables from object/string to int"
   ]
  },
  {
   "attachments": {},
   "cell_type": "markdown",
   "metadata": {},
   "source": [
    "### Variable 1. emp_length"
   ]
  },
  {
   "cell_type": "code",
   "execution_count": 6,
   "metadata": {},
   "outputs": [
    {
     "data": {
      "text/plain": [
       "array(['10+ years', '< 1 year', '1 year', '3 years', '8 years', '9 years',\n",
       "       '4 years', '5 years', '6 years', '2 years', '7 years', nan],\n",
       "      dtype=object)"
      ]
     },
     "execution_count": 6,
     "metadata": {},
     "output_type": "execute_result"
    }
   ],
   "source": [
    "loan_data[\"emp_length\"].unique()"
   ]
  },
  {
   "attachments": {},
   "cell_type": "markdown",
   "metadata": {},
   "source": [
    "!Note: Always performing string manipulation in order. \n",
    "\n",
    "For example for the column 'emp_lenght' performing regex'\\D' will make both the values '< 1 year' and '1 year' same as 1, Which we are trying to avoid here."
   ]
  },
  {
   "cell_type": "code",
   "execution_count": 7,
   "metadata": {},
   "outputs": [],
   "source": [
    "loan_data['emp_length_int'] = loan_data['emp_length'].replace('< 1 year', '0')"
   ]
  },
  {
   "cell_type": "code",
   "execution_count": 8,
   "metadata": {},
   "outputs": [
    {
     "data": {
      "text/plain": [
       "array(['10+ years', '0', '1 year', '3 years', '8 years', '9 years',\n",
       "       '4 years', '5 years', '6 years', '2 years', '7 years', nan],\n",
       "      dtype=object)"
      ]
     },
     "execution_count": 8,
     "metadata": {},
     "output_type": "execute_result"
    }
   ],
   "source": [
    "loan_data['emp_length_int'].unique()"
   ]
  },
  {
   "cell_type": "code",
   "execution_count": 9,
   "metadata": {},
   "outputs": [],
   "source": [
    "loan_data['emp_length_int'] = loan_data['emp_length_int'].fillna('0')"
   ]
  },
  {
   "cell_type": "code",
   "execution_count": 10,
   "metadata": {},
   "outputs": [
    {
     "data": {
      "text/plain": [
       "array(['10+ years', '0', '1 year', '3 years', '8 years', '9 years',\n",
       "       '4 years', '5 years', '6 years', '2 years', '7 years'],\n",
       "      dtype=object)"
      ]
     },
     "execution_count": 10,
     "metadata": {},
     "output_type": "execute_result"
    }
   ],
   "source": [
    "loan_data['emp_length_int'].unique()"
   ]
  },
  {
   "cell_type": "code",
   "execution_count": 11,
   "metadata": {},
   "outputs": [],
   "source": [
    "# The following regex r'\\D' replaces any non digit characters with an empty string\n",
    "loan_data['emp_length_int'] = loan_data['emp_length_int'].replace(r'\\D', '', regex = True)"
   ]
  },
  {
   "cell_type": "code",
   "execution_count": 12,
   "metadata": {},
   "outputs": [
    {
     "data": {
      "text/plain": [
       "array(['10', '0', '1', '3', '8', '9', '4', '5', '6', '2', '7'],\n",
       "      dtype=object)"
      ]
     },
     "execution_count": 12,
     "metadata": {},
     "output_type": "execute_result"
    }
   ],
   "source": [
    "loan_data['emp_length_int'].unique()"
   ]
  },
  {
   "cell_type": "code",
   "execution_count": 13,
   "metadata": {},
   "outputs": [],
   "source": [
    "loan_data['emp_length_int'] = pd.to_numeric(loan_data['emp_length_int'])"
   ]
  },
  {
   "cell_type": "code",
   "execution_count": 14,
   "metadata": {},
   "outputs": [
    {
     "data": {
      "text/plain": [
       "numpy.int64"
      ]
     },
     "execution_count": 14,
     "metadata": {},
     "output_type": "execute_result"
    }
   ],
   "source": [
    "type(loan_data['emp_length_int'][0])"
   ]
  },
  {
   "attachments": {},
   "cell_type": "markdown",
   "metadata": {},
   "source": [
    "### Variable 2. term"
   ]
  },
  {
   "cell_type": "code",
   "execution_count": 15,
   "metadata": {},
   "outputs": [
    {
     "data": {
      "text/plain": [
       "array([' 36 months', ' 60 months'], dtype=object)"
      ]
     },
     "execution_count": 15,
     "metadata": {},
     "output_type": "execute_result"
    }
   ],
   "source": [
    "loan_data['term'].unique()"
   ]
  },
  {
   "cell_type": "code",
   "execution_count": 16,
   "metadata": {},
   "outputs": [],
   "source": [
    "loan_data['term_int'] = loan_data['term'].replace(r'\\D', '', regex = True)"
   ]
  },
  {
   "cell_type": "code",
   "execution_count": 17,
   "metadata": {},
   "outputs": [
    {
     "data": {
      "text/plain": [
       "array(['36', '60'], dtype=object)"
      ]
     },
     "execution_count": 17,
     "metadata": {},
     "output_type": "execute_result"
    }
   ],
   "source": [
    "loan_data['term_int'].unique()"
   ]
  },
  {
   "cell_type": "code",
   "execution_count": 18,
   "metadata": {},
   "outputs": [],
   "source": [
    "loan_data['term_int'] = pd.to_numeric(loan_data['term_int'])"
   ]
  },
  {
   "cell_type": "code",
   "execution_count": 19,
   "metadata": {},
   "outputs": [
    {
     "data": {
      "text/plain": [
       "numpy.int64"
      ]
     },
     "execution_count": 19,
     "metadata": {},
     "output_type": "execute_result"
    }
   ],
   "source": [
    "type(loan_data['term_int'][0])"
   ]
  },
  {
   "attachments": {},
   "cell_type": "markdown",
   "metadata": {},
   "source": [
    "## 2. Changing string variables to date variables"
   ]
  },
  {
   "cell_type": "code",
   "execution_count": 20,
   "metadata": {},
   "outputs": [
    {
     "data": {
      "text/plain": [
       "0    Jan-85\n",
       "1    Apr-99\n",
       "2    Nov-01\n",
       "3    Feb-96\n",
       "4    Jan-96\n",
       "Name: earliest_cr_line, dtype: object"
      ]
     },
     "execution_count": 20,
     "metadata": {},
     "output_type": "execute_result"
    }
   ],
   "source": [
    "loan_data['earliest_cr_line'].head()"
   ]
  },
  {
   "cell_type": "code",
   "execution_count": 21,
   "metadata": {},
   "outputs": [],
   "source": [
    "# Creating function for handling date conversion from string to datetime \n",
    "# (also handling dates before 2000 i.e 1960 for example, to avoid being labbeled as 2060)\n",
    "\n",
    "from datetime import datetime\n",
    "\n",
    "\n",
    "def convert_to_datetime(date_str):\n",
    "    if pd.isnull(date_str):  # Handle missing values\n",
    "        return None\n",
    "\n",
    "    date_parts = str(date_str).split('-')\n",
    "    if len(date_parts) != 2:\n",
    "        return None\n",
    "\n",
    "    month_abbr, year = date_parts\n",
    "    month = datetime.strptime(month_abbr, '%b').month\n",
    "\n",
    "    if int(year) >= 0 and int(year) <= 21:\n",
    "        year = str(int(year) + 2000)\n",
    "    else:\n",
    "        year = str(int(year) + 1900)\n",
    "\n",
    "    return datetime.strptime(f'01-{month}-{year}', '%d-%m-%Y')"
   ]
  },
  {
   "cell_type": "code",
   "execution_count": 22,
   "metadata": {},
   "outputs": [],
   "source": [
    "loan_data['earliest_cr_line'] = loan_data['earliest_cr_line'].apply(convert_to_datetime)\n"
   ]
  },
  {
   "cell_type": "code",
   "execution_count": 23,
   "metadata": {},
   "outputs": [
    {
     "data": {
      "text/plain": [
       "0   1985-01-01\n",
       "1   1999-04-01\n",
       "2   2001-11-01\n",
       "3   1996-02-01\n",
       "4   1996-01-01\n",
       "Name: earliest_cr_line, dtype: datetime64[ns]"
      ]
     },
     "execution_count": 23,
     "metadata": {},
     "output_type": "execute_result"
    }
   ],
   "source": [
    "loan_data['earliest_cr_line'].head()"
   ]
  },
  {
   "cell_type": "code",
   "execution_count": 24,
   "metadata": {},
   "outputs": [],
   "source": [
    "loan_data['mnths_since_earliest_cr_line'] = round(pd.to_numeric((pd.to_datetime('2017-12-01') - loan_data['earliest_cr_line']) / np.timedelta64(1,\"M\")))"
   ]
  },
  {
   "cell_type": "code",
   "execution_count": 25,
   "metadata": {},
   "outputs": [
    {
     "data": {
      "text/plain": [
       "0    388.0\n",
       "1    220.0\n",
       "2    189.0\n",
       "3    257.0\n",
       "4    258.0\n",
       "Name: mnths_since_earliest_cr_line, dtype: float64"
      ]
     },
     "execution_count": 25,
     "metadata": {},
     "output_type": "execute_result"
    }
   ],
   "source": [
    "loan_data['mnths_since_earliest_cr_line'].head()"
   ]
  },
  {
   "cell_type": "code",
   "execution_count": 26,
   "metadata": {},
   "outputs": [
    {
     "data": {
      "text/plain": [
       "count    466256.000000\n",
       "mean        238.095917\n",
       "std          85.352555\n",
       "min          72.000000\n",
       "25%         181.000000\n",
       "50%         222.000000\n",
       "75%         280.000000\n",
       "max         871.000000\n",
       "Name: mnths_since_earliest_cr_line, dtype: float64"
      ]
     },
     "execution_count": 26,
     "metadata": {},
     "output_type": "execute_result"
    }
   ],
   "source": [
    "loan_data['mnths_since_earliest_cr_line'].describe()"
   ]
  },
  {
   "cell_type": "code",
   "execution_count": 27,
   "metadata": {},
   "outputs": [
    {
     "data": {
      "text/plain": [
       "0         Dec-11\n",
       "1         Dec-11\n",
       "2         Dec-11\n",
       "3         Dec-11\n",
       "4         Dec-11\n",
       "           ...  \n",
       "466280    Jan-14\n",
       "466281    Jan-14\n",
       "466282    Jan-14\n",
       "466283    Jan-14\n",
       "466284    Jan-14\n",
       "Name: issue_d, Length: 466285, dtype: object"
      ]
     },
     "execution_count": 27,
     "metadata": {},
     "output_type": "execute_result"
    }
   ],
   "source": [
    "loan_data['issue_d'] "
   ]
  },
  {
   "cell_type": "code",
   "execution_count": 28,
   "metadata": {},
   "outputs": [
    {
     "data": {
      "text/plain": [
       "0        2011-12-01\n",
       "1        2011-12-01\n",
       "2        2011-12-01\n",
       "3        2011-12-01\n",
       "4        2011-12-01\n",
       "            ...    \n",
       "466280   2014-01-01\n",
       "466281   2014-01-01\n",
       "466282   2014-01-01\n",
       "466283   2014-01-01\n",
       "466284   2014-01-01\n",
       "Name: issue_date, Length: 466285, dtype: datetime64[ns]"
      ]
     },
     "execution_count": 28,
     "metadata": {},
     "output_type": "execute_result"
    }
   ],
   "source": [
    "loan_data['issue_date'] = loan_data['issue_d'].apply(convert_to_datetime)\n",
    "loan_data['issue_date'] "
   ]
  },
  {
   "cell_type": "code",
   "execution_count": 29,
   "metadata": {},
   "outputs": [
    {
     "data": {
      "text/plain": [
       "count    466285.000000\n",
       "mean         50.204806\n",
       "std          14.190212\n",
       "min          35.000000\n",
       "25%          40.000000\n",
       "50%          46.000000\n",
       "75%          56.000000\n",
       "max         124.000000\n",
       "Name: mths_since_issue_d, dtype: float64"
      ]
     },
     "execution_count": 29,
     "metadata": {},
     "output_type": "execute_result"
    }
   ],
   "source": [
    "loan_data['mths_since_issue_d'] = round(pd.to_numeric((pd.to_datetime('2017-12-01') - loan_data['issue_date']) / np.timedelta64(1, 'M')))\n",
    "loan_data['mths_since_issue_d'].describe()"
   ]
  },
  {
   "attachments": {},
   "cell_type": "markdown",
   "metadata": {},
   "source": [
    "# Preprocessing Discrete Variables"
   ]
  },
  {
   "attachments": {},
   "cell_type": "markdown",
   "metadata": {},
   "source": [
    "Creating dummy variables for discrete variables"
   ]
  },
  {
   "cell_type": "code",
   "execution_count": 30,
   "metadata": {},
   "outputs": [
    {
     "data": {
      "text/plain": [
       "array(['B', 'C', 'A', 'E', 'F', 'D', 'G'], dtype=object)"
      ]
     },
     "execution_count": 30,
     "metadata": {},
     "output_type": "execute_result"
    }
   ],
   "source": [
    "loan_data['grade'].unique()"
   ]
  },
  {
   "cell_type": "code",
   "execution_count": 31,
   "metadata": {},
   "outputs": [
    {
     "data": {
      "text/html": [
       "<div>\n",
       "<style scoped>\n",
       "    .dataframe tbody tr th:only-of-type {\n",
       "        vertical-align: middle;\n",
       "    }\n",
       "\n",
       "    .dataframe tbody tr th {\n",
       "        vertical-align: top;\n",
       "    }\n",
       "\n",
       "    .dataframe thead th {\n",
       "        text-align: right;\n",
       "    }\n",
       "</style>\n",
       "<table border=\"1\" class=\"dataframe\">\n",
       "  <thead>\n",
       "    <tr style=\"text-align: right;\">\n",
       "      <th></th>\n",
       "      <th>Grade: A</th>\n",
       "      <th>Grade: B</th>\n",
       "      <th>Grade: C</th>\n",
       "      <th>Grade: D</th>\n",
       "      <th>Grade: E</th>\n",
       "      <th>Grade: F</th>\n",
       "      <th>Grade: G</th>\n",
       "    </tr>\n",
       "  </thead>\n",
       "  <tbody>\n",
       "    <tr>\n",
       "      <th>0</th>\n",
       "      <td>False</td>\n",
       "      <td>True</td>\n",
       "      <td>False</td>\n",
       "      <td>False</td>\n",
       "      <td>False</td>\n",
       "      <td>False</td>\n",
       "      <td>False</td>\n",
       "    </tr>\n",
       "    <tr>\n",
       "      <th>1</th>\n",
       "      <td>False</td>\n",
       "      <td>False</td>\n",
       "      <td>True</td>\n",
       "      <td>False</td>\n",
       "      <td>False</td>\n",
       "      <td>False</td>\n",
       "      <td>False</td>\n",
       "    </tr>\n",
       "    <tr>\n",
       "      <th>2</th>\n",
       "      <td>False</td>\n",
       "      <td>False</td>\n",
       "      <td>True</td>\n",
       "      <td>False</td>\n",
       "      <td>False</td>\n",
       "      <td>False</td>\n",
       "      <td>False</td>\n",
       "    </tr>\n",
       "    <tr>\n",
       "      <th>3</th>\n",
       "      <td>False</td>\n",
       "      <td>False</td>\n",
       "      <td>True</td>\n",
       "      <td>False</td>\n",
       "      <td>False</td>\n",
       "      <td>False</td>\n",
       "      <td>False</td>\n",
       "    </tr>\n",
       "    <tr>\n",
       "      <th>4</th>\n",
       "      <td>False</td>\n",
       "      <td>True</td>\n",
       "      <td>False</td>\n",
       "      <td>False</td>\n",
       "      <td>False</td>\n",
       "      <td>False</td>\n",
       "      <td>False</td>\n",
       "    </tr>\n",
       "    <tr>\n",
       "      <th>...</th>\n",
       "      <td>...</td>\n",
       "      <td>...</td>\n",
       "      <td>...</td>\n",
       "      <td>...</td>\n",
       "      <td>...</td>\n",
       "      <td>...</td>\n",
       "      <td>...</td>\n",
       "    </tr>\n",
       "    <tr>\n",
       "      <th>466280</th>\n",
       "      <td>False</td>\n",
       "      <td>False</td>\n",
       "      <td>True</td>\n",
       "      <td>False</td>\n",
       "      <td>False</td>\n",
       "      <td>False</td>\n",
       "      <td>False</td>\n",
       "    </tr>\n",
       "    <tr>\n",
       "      <th>466281</th>\n",
       "      <td>False</td>\n",
       "      <td>False</td>\n",
       "      <td>False</td>\n",
       "      <td>True</td>\n",
       "      <td>False</td>\n",
       "      <td>False</td>\n",
       "      <td>False</td>\n",
       "    </tr>\n",
       "    <tr>\n",
       "      <th>466282</th>\n",
       "      <td>False</td>\n",
       "      <td>False</td>\n",
       "      <td>False</td>\n",
       "      <td>True</td>\n",
       "      <td>False</td>\n",
       "      <td>False</td>\n",
       "      <td>False</td>\n",
       "    </tr>\n",
       "    <tr>\n",
       "      <th>466283</th>\n",
       "      <td>True</td>\n",
       "      <td>False</td>\n",
       "      <td>False</td>\n",
       "      <td>False</td>\n",
       "      <td>False</td>\n",
       "      <td>False</td>\n",
       "      <td>False</td>\n",
       "    </tr>\n",
       "    <tr>\n",
       "      <th>466284</th>\n",
       "      <td>False</td>\n",
       "      <td>False</td>\n",
       "      <td>False</td>\n",
       "      <td>True</td>\n",
       "      <td>False</td>\n",
       "      <td>False</td>\n",
       "      <td>False</td>\n",
       "    </tr>\n",
       "  </tbody>\n",
       "</table>\n",
       "<p>466285 rows × 7 columns</p>\n",
       "</div>"
      ],
      "text/plain": [
       "        Grade: A  Grade: B  Grade: C  Grade: D  Grade: E  Grade: F  Grade: G\n",
       "0          False      True     False     False     False     False     False\n",
       "1          False     False      True     False     False     False     False\n",
       "2          False     False      True     False     False     False     False\n",
       "3          False     False      True     False     False     False     False\n",
       "4          False      True     False     False     False     False     False\n",
       "...          ...       ...       ...       ...       ...       ...       ...\n",
       "466280     False     False      True     False     False     False     False\n",
       "466281     False     False     False      True     False     False     False\n",
       "466282     False     False     False      True     False     False     False\n",
       "466283      True     False     False     False     False     False     False\n",
       "466284     False     False     False      True     False     False     False\n",
       "\n",
       "[466285 rows x 7 columns]"
      ]
     },
     "execution_count": 31,
     "metadata": {},
     "output_type": "execute_result"
    }
   ],
   "source": [
    "pd.get_dummies(loan_data['grade'], prefix = 'Grade', prefix_sep=': ')"
   ]
  },
  {
   "cell_type": "code",
   "execution_count": 32,
   "metadata": {},
   "outputs": [],
   "source": [
    "loan_data_dummies = [\n",
    "                        pd.get_dummies(loan_data['grade'], prefix = 'grade', prefix_sep=': '), \n",
    "                        pd.get_dummies(loan_data['sub_grade'], prefix = 'sub_grade', prefix_sep=': '), \n",
    "                        pd.get_dummies(loan_data['home_ownership'], prefix = 'home_ownership', prefix_sep=': '),\n",
    "                        pd.get_dummies(loan_data['verification_status'], prefix = 'verification_status', prefix_sep=': '),\n",
    "                        pd.get_dummies(loan_data['loan_status'], prefix = 'loan_status', prefix_sep=': '),\n",
    "                        pd.get_dummies(loan_data['purpose'], prefix = 'purpose', prefix_sep=': '),\n",
    "                        pd.get_dummies(loan_data['addr_state'], prefix = 'addr_state', prefix_sep=': '),\n",
    "                        pd.get_dummies(loan_data['initial_list_status'], prefix = 'initial_list_status', prefix_sep=': ')\n",
    "                    ]"
   ]
  },
  {
   "attachments": {},
   "cell_type": "markdown",
   "metadata": {},
   "source": [
    "converting loan_data_dummies to a dataframe"
   ]
  },
  {
   "cell_type": "code",
   "execution_count": 33,
   "metadata": {},
   "outputs": [],
   "source": [
    "loan_data_dummies = pd.concat(loan_data_dummies, axis = 1)"
   ]
  },
  {
   "cell_type": "code",
   "execution_count": 34,
   "metadata": {},
   "outputs": [
    {
     "data": {
      "text/plain": [
       "pandas.core.frame.DataFrame"
      ]
     },
     "execution_count": 34,
     "metadata": {},
     "output_type": "execute_result"
    }
   ],
   "source": [
    "type(loan_data_dummies)"
   ]
  },
  {
   "cell_type": "code",
   "execution_count": 35,
   "metadata": {},
   "outputs": [
    {
     "data": {
      "text/html": [
       "<div>\n",
       "<style scoped>\n",
       "    .dataframe tbody tr th:only-of-type {\n",
       "        vertical-align: middle;\n",
       "    }\n",
       "\n",
       "    .dataframe tbody tr th {\n",
       "        vertical-align: top;\n",
       "    }\n",
       "\n",
       "    .dataframe thead th {\n",
       "        text-align: right;\n",
       "    }\n",
       "</style>\n",
       "<table border=\"1\" class=\"dataframe\">\n",
       "  <thead>\n",
       "    <tr style=\"text-align: right;\">\n",
       "      <th></th>\n",
       "      <th>grade: A</th>\n",
       "      <th>grade: B</th>\n",
       "      <th>grade: C</th>\n",
       "      <th>grade: D</th>\n",
       "      <th>grade: E</th>\n",
       "      <th>grade: F</th>\n",
       "      <th>grade: G</th>\n",
       "      <th>sub_grade: A1</th>\n",
       "      <th>sub_grade: A2</th>\n",
       "      <th>sub_grade: A3</th>\n",
       "      <th>...</th>\n",
       "      <th>addr_state: TX</th>\n",
       "      <th>addr_state: UT</th>\n",
       "      <th>addr_state: VA</th>\n",
       "      <th>addr_state: VT</th>\n",
       "      <th>addr_state: WA</th>\n",
       "      <th>addr_state: WI</th>\n",
       "      <th>addr_state: WV</th>\n",
       "      <th>addr_state: WY</th>\n",
       "      <th>initial_list_status: f</th>\n",
       "      <th>initial_list_status: w</th>\n",
       "    </tr>\n",
       "  </thead>\n",
       "  <tbody>\n",
       "    <tr>\n",
       "      <th>0</th>\n",
       "      <td>False</td>\n",
       "      <td>True</td>\n",
       "      <td>False</td>\n",
       "      <td>False</td>\n",
       "      <td>False</td>\n",
       "      <td>False</td>\n",
       "      <td>False</td>\n",
       "      <td>False</td>\n",
       "      <td>False</td>\n",
       "      <td>False</td>\n",
       "      <td>...</td>\n",
       "      <td>False</td>\n",
       "      <td>False</td>\n",
       "      <td>False</td>\n",
       "      <td>False</td>\n",
       "      <td>False</td>\n",
       "      <td>False</td>\n",
       "      <td>False</td>\n",
       "      <td>False</td>\n",
       "      <td>True</td>\n",
       "      <td>False</td>\n",
       "    </tr>\n",
       "    <tr>\n",
       "      <th>1</th>\n",
       "      <td>False</td>\n",
       "      <td>False</td>\n",
       "      <td>True</td>\n",
       "      <td>False</td>\n",
       "      <td>False</td>\n",
       "      <td>False</td>\n",
       "      <td>False</td>\n",
       "      <td>False</td>\n",
       "      <td>False</td>\n",
       "      <td>False</td>\n",
       "      <td>...</td>\n",
       "      <td>False</td>\n",
       "      <td>False</td>\n",
       "      <td>False</td>\n",
       "      <td>False</td>\n",
       "      <td>False</td>\n",
       "      <td>False</td>\n",
       "      <td>False</td>\n",
       "      <td>False</td>\n",
       "      <td>True</td>\n",
       "      <td>False</td>\n",
       "    </tr>\n",
       "    <tr>\n",
       "      <th>2</th>\n",
       "      <td>False</td>\n",
       "      <td>False</td>\n",
       "      <td>True</td>\n",
       "      <td>False</td>\n",
       "      <td>False</td>\n",
       "      <td>False</td>\n",
       "      <td>False</td>\n",
       "      <td>False</td>\n",
       "      <td>False</td>\n",
       "      <td>False</td>\n",
       "      <td>...</td>\n",
       "      <td>False</td>\n",
       "      <td>False</td>\n",
       "      <td>False</td>\n",
       "      <td>False</td>\n",
       "      <td>False</td>\n",
       "      <td>False</td>\n",
       "      <td>False</td>\n",
       "      <td>False</td>\n",
       "      <td>True</td>\n",
       "      <td>False</td>\n",
       "    </tr>\n",
       "    <tr>\n",
       "      <th>3</th>\n",
       "      <td>False</td>\n",
       "      <td>False</td>\n",
       "      <td>True</td>\n",
       "      <td>False</td>\n",
       "      <td>False</td>\n",
       "      <td>False</td>\n",
       "      <td>False</td>\n",
       "      <td>False</td>\n",
       "      <td>False</td>\n",
       "      <td>False</td>\n",
       "      <td>...</td>\n",
       "      <td>False</td>\n",
       "      <td>False</td>\n",
       "      <td>False</td>\n",
       "      <td>False</td>\n",
       "      <td>False</td>\n",
       "      <td>False</td>\n",
       "      <td>False</td>\n",
       "      <td>False</td>\n",
       "      <td>True</td>\n",
       "      <td>False</td>\n",
       "    </tr>\n",
       "    <tr>\n",
       "      <th>4</th>\n",
       "      <td>False</td>\n",
       "      <td>True</td>\n",
       "      <td>False</td>\n",
       "      <td>False</td>\n",
       "      <td>False</td>\n",
       "      <td>False</td>\n",
       "      <td>False</td>\n",
       "      <td>False</td>\n",
       "      <td>False</td>\n",
       "      <td>False</td>\n",
       "      <td>...</td>\n",
       "      <td>False</td>\n",
       "      <td>False</td>\n",
       "      <td>False</td>\n",
       "      <td>False</td>\n",
       "      <td>False</td>\n",
       "      <td>False</td>\n",
       "      <td>False</td>\n",
       "      <td>False</td>\n",
       "      <td>True</td>\n",
       "      <td>False</td>\n",
       "    </tr>\n",
       "    <tr>\n",
       "      <th>...</th>\n",
       "      <td>...</td>\n",
       "      <td>...</td>\n",
       "      <td>...</td>\n",
       "      <td>...</td>\n",
       "      <td>...</td>\n",
       "      <td>...</td>\n",
       "      <td>...</td>\n",
       "      <td>...</td>\n",
       "      <td>...</td>\n",
       "      <td>...</td>\n",
       "      <td>...</td>\n",
       "      <td>...</td>\n",
       "      <td>...</td>\n",
       "      <td>...</td>\n",
       "      <td>...</td>\n",
       "      <td>...</td>\n",
       "      <td>...</td>\n",
       "      <td>...</td>\n",
       "      <td>...</td>\n",
       "      <td>...</td>\n",
       "      <td>...</td>\n",
       "    </tr>\n",
       "    <tr>\n",
       "      <th>466280</th>\n",
       "      <td>False</td>\n",
       "      <td>False</td>\n",
       "      <td>True</td>\n",
       "      <td>False</td>\n",
       "      <td>False</td>\n",
       "      <td>False</td>\n",
       "      <td>False</td>\n",
       "      <td>False</td>\n",
       "      <td>False</td>\n",
       "      <td>False</td>\n",
       "      <td>...</td>\n",
       "      <td>True</td>\n",
       "      <td>False</td>\n",
       "      <td>False</td>\n",
       "      <td>False</td>\n",
       "      <td>False</td>\n",
       "      <td>False</td>\n",
       "      <td>False</td>\n",
       "      <td>False</td>\n",
       "      <td>False</td>\n",
       "      <td>True</td>\n",
       "    </tr>\n",
       "    <tr>\n",
       "      <th>466281</th>\n",
       "      <td>False</td>\n",
       "      <td>False</td>\n",
       "      <td>False</td>\n",
       "      <td>True</td>\n",
       "      <td>False</td>\n",
       "      <td>False</td>\n",
       "      <td>False</td>\n",
       "      <td>False</td>\n",
       "      <td>False</td>\n",
       "      <td>False</td>\n",
       "      <td>...</td>\n",
       "      <td>False</td>\n",
       "      <td>False</td>\n",
       "      <td>False</td>\n",
       "      <td>False</td>\n",
       "      <td>False</td>\n",
       "      <td>False</td>\n",
       "      <td>False</td>\n",
       "      <td>False</td>\n",
       "      <td>True</td>\n",
       "      <td>False</td>\n",
       "    </tr>\n",
       "    <tr>\n",
       "      <th>466282</th>\n",
       "      <td>False</td>\n",
       "      <td>False</td>\n",
       "      <td>False</td>\n",
       "      <td>True</td>\n",
       "      <td>False</td>\n",
       "      <td>False</td>\n",
       "      <td>False</td>\n",
       "      <td>False</td>\n",
       "      <td>False</td>\n",
       "      <td>False</td>\n",
       "      <td>...</td>\n",
       "      <td>False</td>\n",
       "      <td>False</td>\n",
       "      <td>False</td>\n",
       "      <td>False</td>\n",
       "      <td>False</td>\n",
       "      <td>False</td>\n",
       "      <td>False</td>\n",
       "      <td>False</td>\n",
       "      <td>True</td>\n",
       "      <td>False</td>\n",
       "    </tr>\n",
       "    <tr>\n",
       "      <th>466283</th>\n",
       "      <td>True</td>\n",
       "      <td>False</td>\n",
       "      <td>False</td>\n",
       "      <td>False</td>\n",
       "      <td>False</td>\n",
       "      <td>False</td>\n",
       "      <td>False</td>\n",
       "      <td>False</td>\n",
       "      <td>False</td>\n",
       "      <td>False</td>\n",
       "      <td>...</td>\n",
       "      <td>False</td>\n",
       "      <td>False</td>\n",
       "      <td>False</td>\n",
       "      <td>False</td>\n",
       "      <td>False</td>\n",
       "      <td>False</td>\n",
       "      <td>False</td>\n",
       "      <td>False</td>\n",
       "      <td>False</td>\n",
       "      <td>True</td>\n",
       "    </tr>\n",
       "    <tr>\n",
       "      <th>466284</th>\n",
       "      <td>False</td>\n",
       "      <td>False</td>\n",
       "      <td>False</td>\n",
       "      <td>True</td>\n",
       "      <td>False</td>\n",
       "      <td>False</td>\n",
       "      <td>False</td>\n",
       "      <td>False</td>\n",
       "      <td>False</td>\n",
       "      <td>False</td>\n",
       "      <td>...</td>\n",
       "      <td>False</td>\n",
       "      <td>False</td>\n",
       "      <td>False</td>\n",
       "      <td>False</td>\n",
       "      <td>False</td>\n",
       "      <td>False</td>\n",
       "      <td>False</td>\n",
       "      <td>False</td>\n",
       "      <td>True</td>\n",
       "      <td>False</td>\n",
       "    </tr>\n",
       "  </tbody>\n",
       "</table>\n",
       "<p>466285 rows × 126 columns</p>\n",
       "</div>"
      ],
      "text/plain": [
       "        grade: A  grade: B  grade: C  grade: D  grade: E  grade: F  grade: G  \\\n",
       "0          False      True     False     False     False     False     False   \n",
       "1          False     False      True     False     False     False     False   \n",
       "2          False     False      True     False     False     False     False   \n",
       "3          False     False      True     False     False     False     False   \n",
       "4          False      True     False     False     False     False     False   \n",
       "...          ...       ...       ...       ...       ...       ...       ...   \n",
       "466280     False     False      True     False     False     False     False   \n",
       "466281     False     False     False      True     False     False     False   \n",
       "466282     False     False     False      True     False     False     False   \n",
       "466283      True     False     False     False     False     False     False   \n",
       "466284     False     False     False      True     False     False     False   \n",
       "\n",
       "        sub_grade: A1  sub_grade: A2  sub_grade: A3  ...  addr_state: TX  \\\n",
       "0               False          False          False  ...           False   \n",
       "1               False          False          False  ...           False   \n",
       "2               False          False          False  ...           False   \n",
       "3               False          False          False  ...           False   \n",
       "4               False          False          False  ...           False   \n",
       "...               ...            ...            ...  ...             ...   \n",
       "466280          False          False          False  ...            True   \n",
       "466281          False          False          False  ...           False   \n",
       "466282          False          False          False  ...           False   \n",
       "466283          False          False          False  ...           False   \n",
       "466284          False          False          False  ...           False   \n",
       "\n",
       "        addr_state: UT  addr_state: VA  addr_state: VT  addr_state: WA  \\\n",
       "0                False           False           False           False   \n",
       "1                False           False           False           False   \n",
       "2                False           False           False           False   \n",
       "3                False           False           False           False   \n",
       "4                False           False           False           False   \n",
       "...                ...             ...             ...             ...   \n",
       "466280           False           False           False           False   \n",
       "466281           False           False           False           False   \n",
       "466282           False           False           False           False   \n",
       "466283           False           False           False           False   \n",
       "466284           False           False           False           False   \n",
       "\n",
       "        addr_state: WI  addr_state: WV  addr_state: WY  \\\n",
       "0                False           False           False   \n",
       "1                False           False           False   \n",
       "2                False           False           False   \n",
       "3                False           False           False   \n",
       "4                False           False           False   \n",
       "...                ...             ...             ...   \n",
       "466280           False           False           False   \n",
       "466281           False           False           False   \n",
       "466282           False           False           False   \n",
       "466283           False           False           False   \n",
       "466284           False           False           False   \n",
       "\n",
       "        initial_list_status: f  initial_list_status: w  \n",
       "0                         True                   False  \n",
       "1                         True                   False  \n",
       "2                         True                   False  \n",
       "3                         True                   False  \n",
       "4                         True                   False  \n",
       "...                        ...                     ...  \n",
       "466280                   False                    True  \n",
       "466281                    True                   False  \n",
       "466282                    True                   False  \n",
       "466283                   False                    True  \n",
       "466284                    True                   False  \n",
       "\n",
       "[466285 rows x 126 columns]"
      ]
     },
     "execution_count": 35,
     "metadata": {},
     "output_type": "execute_result"
    }
   ],
   "source": [
    "loan_data_dummies"
   ]
  },
  {
   "attachments": {},
   "cell_type": "markdown",
   "metadata": {},
   "source": [
    "### Combining dummy variable data with original dataframe i.e loan_data"
   ]
  },
  {
   "cell_type": "code",
   "execution_count": 36,
   "metadata": {},
   "outputs": [],
   "source": [
    "# axis = 0 , refers to rows (observations);\n",
    "# axis = 1, refers to columns (variables)\n",
    "## We will join the tables with columns\n",
    "loan_data = pd.concat([loan_data, loan_data_dummies], axis = 1)"
   ]
  },
  {
   "cell_type": "code",
   "execution_count": 37,
   "metadata": {},
   "outputs": [
    {
     "data": {
      "text/html": [
       "<div>\n",
       "<style scoped>\n",
       "    .dataframe tbody tr th:only-of-type {\n",
       "        vertical-align: middle;\n",
       "    }\n",
       "\n",
       "    .dataframe tbody tr th {\n",
       "        vertical-align: top;\n",
       "    }\n",
       "\n",
       "    .dataframe thead th {\n",
       "        text-align: right;\n",
       "    }\n",
       "</style>\n",
       "<table border=\"1\" class=\"dataframe\">\n",
       "  <thead>\n",
       "    <tr style=\"text-align: right;\">\n",
       "      <th></th>\n",
       "      <th>Unnamed: 0</th>\n",
       "      <th>id</th>\n",
       "      <th>member_id</th>\n",
       "      <th>loan_amnt</th>\n",
       "      <th>funded_amnt</th>\n",
       "      <th>funded_amnt_inv</th>\n",
       "      <th>term</th>\n",
       "      <th>int_rate</th>\n",
       "      <th>installment</th>\n",
       "      <th>grade</th>\n",
       "      <th>...</th>\n",
       "      <th>addr_state: TX</th>\n",
       "      <th>addr_state: UT</th>\n",
       "      <th>addr_state: VA</th>\n",
       "      <th>addr_state: VT</th>\n",
       "      <th>addr_state: WA</th>\n",
       "      <th>addr_state: WI</th>\n",
       "      <th>addr_state: WV</th>\n",
       "      <th>addr_state: WY</th>\n",
       "      <th>initial_list_status: f</th>\n",
       "      <th>initial_list_status: w</th>\n",
       "    </tr>\n",
       "  </thead>\n",
       "  <tbody>\n",
       "    <tr>\n",
       "      <th>0</th>\n",
       "      <td>0</td>\n",
       "      <td>1077501</td>\n",
       "      <td>1296599</td>\n",
       "      <td>5000</td>\n",
       "      <td>5000</td>\n",
       "      <td>4975.0</td>\n",
       "      <td>36 months</td>\n",
       "      <td>10.65</td>\n",
       "      <td>162.87</td>\n",
       "      <td>B</td>\n",
       "      <td>...</td>\n",
       "      <td>False</td>\n",
       "      <td>False</td>\n",
       "      <td>False</td>\n",
       "      <td>False</td>\n",
       "      <td>False</td>\n",
       "      <td>False</td>\n",
       "      <td>False</td>\n",
       "      <td>False</td>\n",
       "      <td>True</td>\n",
       "      <td>False</td>\n",
       "    </tr>\n",
       "    <tr>\n",
       "      <th>1</th>\n",
       "      <td>1</td>\n",
       "      <td>1077430</td>\n",
       "      <td>1314167</td>\n",
       "      <td>2500</td>\n",
       "      <td>2500</td>\n",
       "      <td>2500.0</td>\n",
       "      <td>60 months</td>\n",
       "      <td>15.27</td>\n",
       "      <td>59.83</td>\n",
       "      <td>C</td>\n",
       "      <td>...</td>\n",
       "      <td>False</td>\n",
       "      <td>False</td>\n",
       "      <td>False</td>\n",
       "      <td>False</td>\n",
       "      <td>False</td>\n",
       "      <td>False</td>\n",
       "      <td>False</td>\n",
       "      <td>False</td>\n",
       "      <td>True</td>\n",
       "      <td>False</td>\n",
       "    </tr>\n",
       "    <tr>\n",
       "      <th>2</th>\n",
       "      <td>2</td>\n",
       "      <td>1077175</td>\n",
       "      <td>1313524</td>\n",
       "      <td>2400</td>\n",
       "      <td>2400</td>\n",
       "      <td>2400.0</td>\n",
       "      <td>36 months</td>\n",
       "      <td>15.96</td>\n",
       "      <td>84.33</td>\n",
       "      <td>C</td>\n",
       "      <td>...</td>\n",
       "      <td>False</td>\n",
       "      <td>False</td>\n",
       "      <td>False</td>\n",
       "      <td>False</td>\n",
       "      <td>False</td>\n",
       "      <td>False</td>\n",
       "      <td>False</td>\n",
       "      <td>False</td>\n",
       "      <td>True</td>\n",
       "      <td>False</td>\n",
       "    </tr>\n",
       "    <tr>\n",
       "      <th>3</th>\n",
       "      <td>3</td>\n",
       "      <td>1076863</td>\n",
       "      <td>1277178</td>\n",
       "      <td>10000</td>\n",
       "      <td>10000</td>\n",
       "      <td>10000.0</td>\n",
       "      <td>36 months</td>\n",
       "      <td>13.49</td>\n",
       "      <td>339.31</td>\n",
       "      <td>C</td>\n",
       "      <td>...</td>\n",
       "      <td>False</td>\n",
       "      <td>False</td>\n",
       "      <td>False</td>\n",
       "      <td>False</td>\n",
       "      <td>False</td>\n",
       "      <td>False</td>\n",
       "      <td>False</td>\n",
       "      <td>False</td>\n",
       "      <td>True</td>\n",
       "      <td>False</td>\n",
       "    </tr>\n",
       "    <tr>\n",
       "      <th>4</th>\n",
       "      <td>4</td>\n",
       "      <td>1075358</td>\n",
       "      <td>1311748</td>\n",
       "      <td>3000</td>\n",
       "      <td>3000</td>\n",
       "      <td>3000.0</td>\n",
       "      <td>60 months</td>\n",
       "      <td>12.69</td>\n",
       "      <td>67.79</td>\n",
       "      <td>B</td>\n",
       "      <td>...</td>\n",
       "      <td>False</td>\n",
       "      <td>False</td>\n",
       "      <td>False</td>\n",
       "      <td>False</td>\n",
       "      <td>False</td>\n",
       "      <td>False</td>\n",
       "      <td>False</td>\n",
       "      <td>False</td>\n",
       "      <td>True</td>\n",
       "      <td>False</td>\n",
       "    </tr>\n",
       "    <tr>\n",
       "      <th>...</th>\n",
       "      <td>...</td>\n",
       "      <td>...</td>\n",
       "      <td>...</td>\n",
       "      <td>...</td>\n",
       "      <td>...</td>\n",
       "      <td>...</td>\n",
       "      <td>...</td>\n",
       "      <td>...</td>\n",
       "      <td>...</td>\n",
       "      <td>...</td>\n",
       "      <td>...</td>\n",
       "      <td>...</td>\n",
       "      <td>...</td>\n",
       "      <td>...</td>\n",
       "      <td>...</td>\n",
       "      <td>...</td>\n",
       "      <td>...</td>\n",
       "      <td>...</td>\n",
       "      <td>...</td>\n",
       "      <td>...</td>\n",
       "      <td>...</td>\n",
       "    </tr>\n",
       "    <tr>\n",
       "      <th>466280</th>\n",
       "      <td>466280</td>\n",
       "      <td>8598660</td>\n",
       "      <td>1440975</td>\n",
       "      <td>18400</td>\n",
       "      <td>18400</td>\n",
       "      <td>18400.0</td>\n",
       "      <td>60 months</td>\n",
       "      <td>14.47</td>\n",
       "      <td>432.64</td>\n",
       "      <td>C</td>\n",
       "      <td>...</td>\n",
       "      <td>True</td>\n",
       "      <td>False</td>\n",
       "      <td>False</td>\n",
       "      <td>False</td>\n",
       "      <td>False</td>\n",
       "      <td>False</td>\n",
       "      <td>False</td>\n",
       "      <td>False</td>\n",
       "      <td>False</td>\n",
       "      <td>True</td>\n",
       "    </tr>\n",
       "    <tr>\n",
       "      <th>466281</th>\n",
       "      <td>466281</td>\n",
       "      <td>9684700</td>\n",
       "      <td>11536848</td>\n",
       "      <td>22000</td>\n",
       "      <td>22000</td>\n",
       "      <td>22000.0</td>\n",
       "      <td>60 months</td>\n",
       "      <td>19.97</td>\n",
       "      <td>582.50</td>\n",
       "      <td>D</td>\n",
       "      <td>...</td>\n",
       "      <td>False</td>\n",
       "      <td>False</td>\n",
       "      <td>False</td>\n",
       "      <td>False</td>\n",
       "      <td>False</td>\n",
       "      <td>False</td>\n",
       "      <td>False</td>\n",
       "      <td>False</td>\n",
       "      <td>True</td>\n",
       "      <td>False</td>\n",
       "    </tr>\n",
       "    <tr>\n",
       "      <th>466282</th>\n",
       "      <td>466282</td>\n",
       "      <td>9584776</td>\n",
       "      <td>11436914</td>\n",
       "      <td>20700</td>\n",
       "      <td>20700</td>\n",
       "      <td>20700.0</td>\n",
       "      <td>60 months</td>\n",
       "      <td>16.99</td>\n",
       "      <td>514.34</td>\n",
       "      <td>D</td>\n",
       "      <td>...</td>\n",
       "      <td>False</td>\n",
       "      <td>False</td>\n",
       "      <td>False</td>\n",
       "      <td>False</td>\n",
       "      <td>False</td>\n",
       "      <td>False</td>\n",
       "      <td>False</td>\n",
       "      <td>False</td>\n",
       "      <td>True</td>\n",
       "      <td>False</td>\n",
       "    </tr>\n",
       "    <tr>\n",
       "      <th>466283</th>\n",
       "      <td>466283</td>\n",
       "      <td>9604874</td>\n",
       "      <td>11457002</td>\n",
       "      <td>2000</td>\n",
       "      <td>2000</td>\n",
       "      <td>2000.0</td>\n",
       "      <td>36 months</td>\n",
       "      <td>7.90</td>\n",
       "      <td>62.59</td>\n",
       "      <td>A</td>\n",
       "      <td>...</td>\n",
       "      <td>False</td>\n",
       "      <td>False</td>\n",
       "      <td>False</td>\n",
       "      <td>False</td>\n",
       "      <td>False</td>\n",
       "      <td>False</td>\n",
       "      <td>False</td>\n",
       "      <td>False</td>\n",
       "      <td>False</td>\n",
       "      <td>True</td>\n",
       "    </tr>\n",
       "    <tr>\n",
       "      <th>466284</th>\n",
       "      <td>466284</td>\n",
       "      <td>9199665</td>\n",
       "      <td>11061576</td>\n",
       "      <td>10000</td>\n",
       "      <td>10000</td>\n",
       "      <td>9975.0</td>\n",
       "      <td>36 months</td>\n",
       "      <td>19.20</td>\n",
       "      <td>367.58</td>\n",
       "      <td>D</td>\n",
       "      <td>...</td>\n",
       "      <td>False</td>\n",
       "      <td>False</td>\n",
       "      <td>False</td>\n",
       "      <td>False</td>\n",
       "      <td>False</td>\n",
       "      <td>False</td>\n",
       "      <td>False</td>\n",
       "      <td>False</td>\n",
       "      <td>True</td>\n",
       "      <td>False</td>\n",
       "    </tr>\n",
       "  </tbody>\n",
       "</table>\n",
       "<p>466285 rows × 206 columns</p>\n",
       "</div>"
      ],
      "text/plain": [
       "        Unnamed: 0       id  member_id  loan_amnt  funded_amnt  \\\n",
       "0                0  1077501    1296599       5000         5000   \n",
       "1                1  1077430    1314167       2500         2500   \n",
       "2                2  1077175    1313524       2400         2400   \n",
       "3                3  1076863    1277178      10000        10000   \n",
       "4                4  1075358    1311748       3000         3000   \n",
       "...            ...      ...        ...        ...          ...   \n",
       "466280      466280  8598660    1440975      18400        18400   \n",
       "466281      466281  9684700   11536848      22000        22000   \n",
       "466282      466282  9584776   11436914      20700        20700   \n",
       "466283      466283  9604874   11457002       2000         2000   \n",
       "466284      466284  9199665   11061576      10000        10000   \n",
       "\n",
       "        funded_amnt_inv        term  int_rate  installment grade  ...  \\\n",
       "0                4975.0   36 months     10.65       162.87     B  ...   \n",
       "1                2500.0   60 months     15.27        59.83     C  ...   \n",
       "2                2400.0   36 months     15.96        84.33     C  ...   \n",
       "3               10000.0   36 months     13.49       339.31     C  ...   \n",
       "4                3000.0   60 months     12.69        67.79     B  ...   \n",
       "...                 ...         ...       ...          ...   ...  ...   \n",
       "466280          18400.0   60 months     14.47       432.64     C  ...   \n",
       "466281          22000.0   60 months     19.97       582.50     D  ...   \n",
       "466282          20700.0   60 months     16.99       514.34     D  ...   \n",
       "466283           2000.0   36 months      7.90        62.59     A  ...   \n",
       "466284           9975.0   36 months     19.20       367.58     D  ...   \n",
       "\n",
       "       addr_state: TX addr_state: UT addr_state: VA addr_state: VT  \\\n",
       "0               False          False          False          False   \n",
       "1               False          False          False          False   \n",
       "2               False          False          False          False   \n",
       "3               False          False          False          False   \n",
       "4               False          False          False          False   \n",
       "...               ...            ...            ...            ...   \n",
       "466280           True          False          False          False   \n",
       "466281          False          False          False          False   \n",
       "466282          False          False          False          False   \n",
       "466283          False          False          False          False   \n",
       "466284          False          False          False          False   \n",
       "\n",
       "        addr_state: WA addr_state: WI addr_state: WV addr_state: WY  \\\n",
       "0                False          False          False          False   \n",
       "1                False          False          False          False   \n",
       "2                False          False          False          False   \n",
       "3                False          False          False          False   \n",
       "4                False          False          False          False   \n",
       "...                ...            ...            ...            ...   \n",
       "466280           False          False          False          False   \n",
       "466281           False          False          False          False   \n",
       "466282           False          False          False          False   \n",
       "466283           False          False          False          False   \n",
       "466284           False          False          False          False   \n",
       "\n",
       "       initial_list_status: f initial_list_status: w  \n",
       "0                        True                  False  \n",
       "1                        True                  False  \n",
       "2                        True                  False  \n",
       "3                        True                  False  \n",
       "4                        True                  False  \n",
       "...                       ...                    ...  \n",
       "466280                  False                   True  \n",
       "466281                   True                  False  \n",
       "466282                   True                  False  \n",
       "466283                  False                   True  \n",
       "466284                   True                  False  \n",
       "\n",
       "[466285 rows x 206 columns]"
      ]
     },
     "execution_count": 37,
     "metadata": {},
     "output_type": "execute_result"
    }
   ],
   "source": [
    "loan_data"
   ]
  },
  {
   "attachments": {},
   "cell_type": "markdown",
   "metadata": {},
   "source": [
    "# Check for missing values and clean"
   ]
  },
  {
   "cell_type": "code",
   "execution_count": 38,
   "metadata": {},
   "outputs": [
    {
     "data": {
      "text/plain": [
       "emp_title                        27588\n",
       "emp_length                       21008\n",
       "annual_inc                           4\n",
       "desc                            340304\n",
       "title                               21\n",
       "delinq_2yrs                         29\n",
       "earliest_cr_line                    29\n",
       "inq_last_6mths                      29\n",
       "mths_since_last_delinq          250351\n",
       "mths_since_last_record          403647\n",
       "open_acc                            29\n",
       "pub_rec                             29\n",
       "revol_util                         340\n",
       "total_acc                           29\n",
       "last_pymnt_d                       376\n",
       "next_pymnt_d                    227214\n",
       "last_credit_pull_d                  42\n",
       "collections_12_mths_ex_med         145\n",
       "mths_since_last_major_derog     367311\n",
       "annual_inc_joint                466285\n",
       "dti_joint                       466285\n",
       "verification_status_joint       466285\n",
       "acc_now_delinq                      29\n",
       "tot_coll_amt                     70276\n",
       "tot_cur_bal                      70276\n",
       "open_acc_6m                     466285\n",
       "open_il_6m                      466285\n",
       "open_il_12m                     466285\n",
       "open_il_24m                     466285\n",
       "mths_since_rcnt_il              466285\n",
       "total_bal_il                    466285\n",
       "il_util                         466285\n",
       "open_rv_12m                     466285\n",
       "open_rv_24m                     466285\n",
       "max_bal_bc                      466285\n",
       "all_util                        466285\n",
       "total_rev_hi_lim                 70276\n",
       "inq_fi                          466285\n",
       "total_cu_tl                     466285\n",
       "inq_last_12m                    466285\n",
       "mnths_since_earliest_cr_line        29\n",
       "dtype: int64"
      ]
     },
     "execution_count": 38,
     "metadata": {},
     "output_type": "execute_result"
    }
   ],
   "source": [
    "# display only the column names with a number of missing values greater than 0,\n",
    "missing_values_sum = loan_data.isnull().sum()\n",
    "missing_values_sum[missing_values_sum > 0]"
   ]
  },
  {
   "attachments": {},
   "cell_type": "markdown",
   "metadata": {},
   "source": [
    "### Variables needed for Analysis\n",
    "1. annual_inc\n",
    "2. delinq_2yrs\n",
    "3. inq_last_6mnths\n",
    "4. open_acc\n",
    "5. pub_rec\n",
    "6. total_acc\n",
    "7. acc_now_delinq\n",
    "8. total_rev_hi_lim\n",
    "9. emp_length_int\n",
    "10. mths_since_earliest_cr_line"
   ]
  },
  {
   "attachments": {},
   "cell_type": "markdown",
   "metadata": {},
   "source": [
    "treating missing values for needed variables"
   ]
  },
  {
   "cell_type": "code",
   "execution_count": 39,
   "metadata": {},
   "outputs": [
    {
     "data": {
      "text/plain": [
       "70276"
      ]
     },
     "execution_count": 39,
     "metadata": {},
     "output_type": "execute_result"
    }
   ],
   "source": [
    "loan_data['total_rev_hi_lim'].isnull().sum()"
   ]
  },
  {
   "attachments": {},
   "cell_type": "markdown",
   "metadata": {},
   "source": [
    "## total_rev_hi_lim"
   ]
  },
  {
   "attachments": {},
   "cell_type": "markdown",
   "metadata": {},
   "source": [
    "Here we assume that if we don't have revolving limit then it is equal to funded amount of the loan"
   ]
  },
  {
   "cell_type": "code",
   "execution_count": 40,
   "metadata": {},
   "outputs": [],
   "source": [
    "loan_data['total_rev_hi_lim'].fillna(loan_data['funded_amnt'], inplace = True)"
   ]
  },
  {
   "cell_type": "code",
   "execution_count": 41,
   "metadata": {},
   "outputs": [
    {
     "data": {
      "text/plain": [
       "0"
      ]
     },
     "execution_count": 41,
     "metadata": {},
     "output_type": "execute_result"
    }
   ],
   "source": [
    "loan_data['total_rev_hi_lim'].isnull().sum()"
   ]
  },
  {
   "attachments": {},
   "cell_type": "markdown",
   "metadata": {},
   "source": [
    "## annual_inc"
   ]
  },
  {
   "attachments": {},
   "cell_type": "markdown",
   "metadata": {},
   "source": [
    "For annual income (‘annual_inc’), replace the missing values with the mean of the non-missing values of the variable."
   ]
  },
  {
   "cell_type": "code",
   "execution_count": 42,
   "metadata": {},
   "outputs": [],
   "source": [
    "loan_data['annual_inc'].fillna(loan_data['annual_inc'].mean(), inplace=True)"
   ]
  },
  {
   "cell_type": "code",
   "execution_count": 43,
   "metadata": {},
   "outputs": [
    {
     "data": {
      "text/plain": [
       "0"
      ]
     },
     "execution_count": 43,
     "metadata": {},
     "output_type": "execute_result"
    }
   ],
   "source": [
    "loan_data['annual_inc'].isnull().sum()"
   ]
  },
  {
   "attachments": {},
   "cell_type": "markdown",
   "metadata": {},
   "source": [
    "## For all of the following variables, replace the missing values with zeroes\n",
    "‘mths_since_earliest_cr_line’\n",
    "\n",
    "‘acc_now_delinq’\n",
    "\n",
    "‘total_acc’\n",
    "\n",
    "‘pub_rec’\n",
    "\n",
    "‘open_acc’\n",
    "\n",
    "‘inq_last_6mths’\n",
    "\n",
    "‘delinq_2yrs’\n",
    "\n",
    "‘emp_length_int’\n"
   ]
  },
  {
   "cell_type": "code",
   "execution_count": 44,
   "metadata": {},
   "outputs": [],
   "source": [
    "variables = ['mnths_since_earliest_cr_line', 'acc_now_delinq', 'total_acc', 'pub_rec', 'open_acc', 'inq_last_6mths', 'delinq_2yrs', 'emp_length_int']\n",
    "loan_data[variables] = loan_data[variables].fillna(0)"
   ]
  },
  {
   "cell_type": "code",
   "execution_count": 45,
   "metadata": {},
   "outputs": [
    {
     "data": {
      "text/plain": [
       "mnths_since_earliest_cr_line    0\n",
       "acc_now_delinq                  0\n",
       "total_acc                       0\n",
       "pub_rec                         0\n",
       "open_acc                        0\n",
       "inq_last_6mths                  0\n",
       "delinq_2yrs                     0\n",
       "emp_length_int                  0\n",
       "dtype: int64"
      ]
     },
     "execution_count": 45,
     "metadata": {},
     "output_type": "execute_result"
    }
   ],
   "source": [
    "loan_data[variables].isnull().sum()"
   ]
  },
  {
   "cell_type": "code",
   "execution_count": 46,
   "metadata": {},
   "outputs": [],
   "source": [
    "loan_data.to_pickle('/Users/pr7/Documents/github/loan_data.pkl')"
   ]
  }
 ],
 "metadata": {
  "kernelspec": {
   "display_name": "creditEnvironment",
   "language": "python",
   "name": "python3"
  },
  "language_info": {
   "codemirror_mode": {
    "name": "ipython",
    "version": 3
   },
   "file_extension": ".py",
   "mimetype": "text/x-python",
   "name": "python",
   "nbconvert_exporter": "python",
   "pygments_lexer": "ipython3",
   "version": "3.11.4"
  },
  "orig_nbformat": 4,
  "vscode": {
   "interpreter": {
    "hash": "64d8e95c8ce06f3611458725091c282f793eb67ea24f3a2ec4f5f7f100a3eebf"
   }
  }
 },
 "nbformat": 4,
 "nbformat_minor": 2
}
